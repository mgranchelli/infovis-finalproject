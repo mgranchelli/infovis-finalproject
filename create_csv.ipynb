{
 "cells": [
  {
   "cell_type": "markdown",
   "metadata": {},
   "source": [
    "# Get book characters "
   ]
  },
  {
   "cell_type": "code",
   "execution_count": 3,
   "metadata": {},
   "outputs": [],
   "source": [
    "import pandas as pd\n",
    "import string\n",
    "from bs4 import BeautifulSoup\n",
    "from urllib.request import urlopen\n",
    "\n",
    "#web scraping list of characters from witcher wiki\n",
    "#https://witcher.fandom.com/wiki/Category:Characters_in_the_stories\n",
    "from bs4 import BeautifulSoup\n",
    "from urllib.request import urlopen\n",
    "\n",
    "book_characters = {}\n",
    "\n",
    "def get_characters(book, url):\n",
    "    book_characters[book] = set()\n",
    "    page = urlopen(url)\n",
    "    html = page.read().decode(\"utf-8\")\n",
    "    soup = BeautifulSoup(html, \"html.parser\")\n",
    "\n",
    "    images = soup.find_all(\"img\")\n",
    "\n",
    "    for image in images:\n",
    "        name = image[\"alt\"]\n",
    "        name = name.split(\" \")[0]\n",
    "        if name not in book_characters[book]:\n",
    "            if not name == \"Witcher\" and not name == \"Cirilla\":\n",
    "                book_characters[book].add(name)\n",
    "\n",
    "# I\n",
    "get_characters('I' ,\"https://witcher.fandom.com/wiki/Category:Blood_of_Elves_characters\")\n",
    "# II\n",
    "get_characters('II', \"https://witcher.fandom.com/wiki/Category:Time_of_Contempt_characters\")\n",
    "# III\n",
    "get_characters('III', \"https://witcher.fandom.com/wiki/Category:Baptism_of_Fire_characters\")\n",
    "# IV\n",
    "get_characters('IV', \"https://witcher.fandom.com/wiki/Category:The_Tower_of_the_Swallow_characters\")\n",
    "# V\n",
    "get_characters('V', \"https://witcher.fandom.com/wiki/Category:The_Lady_of_the_Lake_characters\")"
   ]
  },
  {
   "cell_type": "code",
   "execution_count": 4,
   "metadata": {},
   "outputs": [
    {
     "name": "stdout",
     "output_type": "stream",
     "text": [
      "I\n",
      "['Aelirenn', 'Anséis', 'Artaud', 'Bronibor', 'Cahir', 'Calanthe', 'Carduin', 'Ciri', 'Coën', 'Crach', 'Dandelion', 'Demavend', 'Donimir', 'Duke', 'Eist', 'Ekkehard', 'Emhyr', 'Eskel', 'Essi', 'Esterad', 'Ethain', 'Everett', 'Fercart', 'Foltest', 'Francesca', 'Geralt', 'Gerhart', 'Henselt', 'Herbert', 'Hereward', 'Iola', 'Ithlinne', 'Jarre', 'Keira', 'Lambert', 'Lydia', 'Lytta', 'Maria', 'Menno', 'Meve', 'Nenneke', 'Niedamir', 'Ori', 'Paulie', 'Pavetta', 'Philippa', 'Podveyka', 'Rayla', 'Regan', 'Rience', 'Roach', 'Shani', 'Sheldon', 'Sigismund', 'Tissaia', 'Triss', 'Vanielle', 'Venzlav', 'Vesemir', 'Vilgefortz', 'Villem', 'Virfuril', 'Vissegerd', 'Windhalm', 'Xavier', 'Yannick', 'Yarpen', 'Yennefer', 'Zyvik']\n",
      "69\n",
      "\n",
      "\n",
      "II\n",
      "['Akerspaark', \"Akerspaark's\", 'Aplegatt', 'Ardal', 'Artaud', 'Asse', 'Blue', 'Bronibor', 'Cahir', 'Calanthe', 'Carduin', 'Ceallach', 'Ciri', 'Codringher', 'Coën', 'Dandelion', 'Demavend', 'Detmold', 'Dorregaray', 'Eist', 'Eithné', 'Elan', 'Emhyr', 'Eredin', 'Eskel', 'Esterad', 'Ethain', 'Fabio', 'Falka', 'Fauve', 'Fercart', 'Filavandrel', 'Foltest', 'Francesca', 'Geralt', 'Gerhart', 'Heimo', 'Henselt', 'Herbert', 'Horm', 'Hoët', 'Ihuarraquax', 'Iskra', 'Ithlinne', 'Jacob', 'Jan', 'Jarre', 'Joachim', 'Kayleigh', 'Keira', 'King', 'Korin', 'Lambert', 'Leticia', 'Little', 'Lydia', 'Margarita', 'Marti', 'Menno', 'Meve', 'Milva', 'Mistle', 'Molnar', 'Morvran', 'Nenneke', 'Niedamir', 'Paulie', 'Pavetta', 'Philippa', 'Raffard', 'Ralf', 'Rayla', 'Rience', 'Roach', 'Roegner', 'Rudiger', 'Sabrina', 'Schirrú', 'Sigismund', 'Sir', 'Stefan', 'Stella', 'Tissaia', 'Toruviel', 'Triss', 'Two', 'Vattier', 'Venzlav', 'Vesemir', 'Vilgefortz', 'Vissegerd', 'Voymir', 'Xarthisius', 'Yaevinn', 'Yarpen', 'Yennefer', 'Zyvik']\n",
      "97\n",
      "\n",
      "\n",
      "III\n",
      "['Adalia', 'Aen', 'Aglaïs', 'Albrich', 'Anzelm', 'Artaud', 'Asse', 'Assire', 'Aubry', 'Baron', 'Brouver', 'Cahir', 'Calanthe', 'Carduin', 'Ceallach', 'Ciri', 'Codringher', 'Connor', 'Crispin', 'Dandelion', 'Daniel', 'Demavend', 'Eithné', 'Elan', 'Emhyr', 'Emiel', 'Ethain', 'Falka', 'Fauve', 'Field', 'Figgis', 'Francesca', 'Fringilla', 'Geralt', 'Gerhart', 'Havekar', 'Henselt', 'Ida', 'Iorweth', 'Isengrim', 'Iskra', 'Istredd', 'Ithlinne', 'Jacob', 'Jan', 'Kayleigh', 'Keira', 'Leo', 'Leticia', 'Margarita', 'Merlin', 'Meve', 'Milva', 'Mistle', 'Morteisen', 'Munro', 'Nimue', 'Ori', 'Papebrock', 'Percival', 'Philippa', 'Radovid', 'Reynard', 'Rience', 'Riordain', 'Roach', 'Robert', 'Sabrina', 'Schirrú', 'Sheala', 'Shilard', 'Sievers', 'Sigismund', 'Simlas', 'Sirssa', 'Stefan', 'Stella', 'Tissaia', 'Toruviel', 'Triss', 'Vanadain', 'Vattier', 'Vilgefortz', 'Vissegerd', 'Vreemde', 'Xarthisius', 'Yennefer', 'Zoltan']\n",
      "88\n",
      "\n",
      "\n",
      "IV\n",
      "['Adam', 'Ambassador', 'Angoulême', 'Anna', 'Ardal', 'Asse', 'Assire', \"Avallac'h\", 'Baron', 'Bran', 'Cahir', 'Calanthe', 'Carthia', 'Ceallach', 'Ciri', 'Codringher', 'Coën', 'Crach', 'Dandelion', 'Daniel', 'Demavend', 'Eist', 'Emhyr', 'Emiel', 'Eredin', 'Eskel', 'Esterad', 'Fabio', 'Fergus', 'Fringilla', 'Fulko', 'Geralt', 'Golan', 'Gosta', 'Henselt', 'Hjalmar', 'Hotspurn', 'Iola', 'Iskra', 'Ithlinne', 'Jacob', 'Jan', 'Jarre', 'Joachim', 'Joanna', 'Julia', 'Kayleigh', 'Kelpie', 'Lambert', 'Lebioda', 'Leo', 'Lydia', 'Margarita', 'Menno', 'Meve', 'Milo', 'Milton', 'Milva', 'Mistle', 'Nenneke', 'Paulie', 'Philippa', 'Radovid', 'Reynart', 'Rhyd', 'Rience', 'Roach', 'Schirrú', 'Sheala', 'Sigismund', 'Sigrdrifa', 'Stavro', 'Tissaia', 'Triss', 'Troyden', 'Vattier', 'Vesemir', 'Vilgefortz', 'Vissegerd', 'Vysogota', 'Windsor', 'Xarthisius', 'Yarpen', 'Yennefer', 'Zuleyka', 'Zyvik']\n",
      "86\n",
      "\n",
      "\n",
      "V\n",
      "['Adam', 'Aen', 'Aillil', 'Angoulême', 'Anna', 'Anzelm', 'Ardal', 'Artorius', 'Assire', 'Auberon', 'Aubry', \"Avallac'h\", 'Barclay', 'Braathens', 'Bronibor', 'Brouver', 'Cahir', 'Calanthe', 'Carthia', 'Ceallach', 'Chevron', 'Ciri', 'Count', 'Coën', 'Cyrus', 'Dandelion', 'Daniel', 'Demavend', 'Dennis', 'Dheran', 'Dyffryn', 'Eithné', 'Elan', 'Emhyr', 'Emiel', 'Eredin', 'Eskel', 'Esterad', 'Ethain', 'Eudora', 'Fabio', 'Falka', 'Fergus', 'Field', 'Figgis', 'Fisher', 'Foltest', 'Forest', 'Francesca', 'Fringilla', 'Fulko', 'Geralt', 'Gruffyd', 'Guy', 'Henselt', 'Hereward', 'Ida', 'Ihuarraquax', 'Isengrim', 'Ithlinne', 'Jan', 'Jarre', 'Joachim', 'Julia', 'Keira', 'Kelpie', 'King', 'Kobus', 'Lambert', 'Lebioda', 'Leo', 'Leon', 'Lucienne', 'Lydia', 'Lytta', 'Margarita', 'Marti', 'Menno', 'Meve', 'Milo', 'Milton', 'Milva', 'Mistle', 'Morvran', 'Munro', 'Nenneke', 'Nimue', 'Ori', 'Palmerin', 'Papebrock', 'Paulie', 'Percival', 'Philippa', 'Puttkammer', 'Radovid', 'Ramon', 'Rayla', 'Triss', 'Vilgefortz', 'Yennefer']\n",
      "100\n",
      "\n",
      "\n"
     ]
    }
   ],
   "source": [
    "for book, list_characters in book_characters.items():\n",
    "    print(book)\n",
    "    print(sorted(list_characters))\n",
    "    print(len(list_characters))\n",
    "    print('\\n')"
   ]
  },
  {
   "cell_type": "markdown",
   "metadata": {},
   "source": [
    "# Get chapters from file txt"
   ]
  },
  {
   "cell_type": "code",
   "execution_count": 13,
   "metadata": {},
   "outputs": [],
   "source": [
    "import os\n",
    "books = ['I - Blood of Elves', 'II - Times of Contempt', 'III - Baptism of Fire', 'IV - The Tower of the Swallow', 'V - The Lady of the Lake']\n",
    "book_chapters = {}\n",
    "\n",
    "for book in books:\n",
    "    book_chapters[book] = set()\n",
    "    chapters = os.listdir('./book_chapters/' + book + '/txt/')\n",
    "    for chapter in chapters:\n",
    "        book_chapters[book].add(int(chapter.replace(\"chapter-\", \"\").replace(\".txt\", \"\")))"
   ]
  },
  {
   "cell_type": "code",
   "execution_count": 11,
   "metadata": {},
   "outputs": [
    {
     "name": "stdout",
     "output_type": "stream",
     "text": [
      "I - Blood of Elves\n",
      "{1, 2, 3, 4, 5, 6, 7}\n",
      "II - Times of Contempt\n",
      "{1, 2, 3, 4, 5, 6, 7}\n",
      "III - Baptism of Fire\n",
      "{1, 2, 3, 4, 5, 6, 7}\n",
      "IV - The Tower of the Swallow\n",
      "{1, 2, 3, 4, 5, 6, 7, 8, 9, 10, 11}\n",
      "V - The Lady of the Lake\n",
      "{1, 2, 3, 4, 5, 6, 7, 8, 9, 10, 11, 12}\n"
     ]
    }
   ],
   "source": [
    "for book, chapters in book_chapters.items():\n",
    "    print(book)\n",
    "    print(chapters)"
   ]
  },
  {
   "cell_type": "markdown",
   "metadata": {},
   "source": [
    "# Get characters for chapters"
   ]
  },
  {
   "cell_type": "code",
   "execution_count": 23,
   "metadata": {},
   "outputs": [],
   "source": [
    "def get_characters_for_chapters(chapter, name_book):\n",
    "    chapter_characters = set()\n",
    "    lines = []\n",
    "    for line in chapter:\n",
    "        lines.append(line)\n",
    "\n",
    "    table = str.maketrans('', '', string.punctuation)\n",
    "    stripped = [l.translate(table) for l in lines]\n",
    "    \n",
    "    for line in stripped:\n",
    "        for charater in book_characters[name_book]:\n",
    "            if charater in line:\n",
    "                chapter_characters.add(charater)\n",
    "                #print(chapter_characters)\n",
    "        \n",
    "    return chapter_characters"
   ]
  },
  {
   "cell_type": "code",
   "execution_count": 27,
   "metadata": {},
   "outputs": [],
   "source": [
    "def get_column(chapter_characters, name_book):\n",
    "    l = []\n",
    "    for character in book_characters[name_book]:\n",
    "        if character in chapter_characters:\n",
    "            l.append(1)\n",
    "        else:\n",
    "            l.append(0)\n",
    "    return l"
   ]
  },
  {
   "cell_type": "markdown",
   "metadata": {},
   "source": [
    "# Create final csv "
   ]
  },
  {
   "cell_type": "code",
   "execution_count": 70,
   "metadata": {},
   "outputs": [],
   "source": [
    "import pandas as pd\n",
    "\n",
    "for book, list_chapters in book_chapters.items():\n",
    "    data = {}\n",
    "    name_book = book.split(\" \", 1)[0]\n",
    "    for chapter in list_chapters:\n",
    "        path_chapter = \"./book_chapters/\" + book + \"/txt/chapter-\" + str(chapter) + \".txt\"\n",
    "        data[chapter] = get_column(get_characters_for_chapters(open(path_chapter, \"r\"), name_book), name_book)\n",
    "    \n",
    "    df = pd.DataFrame(data, index=book_characters[name_book])\n",
    "    \n",
    "    # remove characters that not appear in 50% of chapters\n",
    "    for row in df.iterrows():\n",
    "        if row[1].sum() < len(list_chapters)/2:\n",
    "            df = df.drop(row[0])\n",
    "    \n",
    "    # change name of columns\n",
    "    columns = []\n",
    "    for column in df.columns:\n",
    "        columns.append('c' + str(column))\n",
    "    df.columns = columns\n",
    "    \n",
    "    # sort df\n",
    "    df = df.sort_values(by = columns, ascending = False)\n",
    "\n",
    "    df.to_csv(\"./book_chapters/\" + book + \"/final-book-\" + name_book + \".csv\")    "
   ]
  },
  {
   "cell_type": "markdown",
   "metadata": {},
   "source": [
    "# Create json"
   ]
  },
  {
   "cell_type": "code",
   "execution_count": 14,
   "metadata": {},
   "outputs": [],
   "source": [
    "import pandas as pd\n",
    "\n",
    "for book in books:\n",
    "    current_book = pd.read_csv(\".books//book_chapters/\" + book + \"/final-book-\" + book.split(\" \", 1)[0] + \".csv\")\n",
    "    dict = {}\n",
    "    i = 1\n",
    "    l = []\n",
    "    for column in current_book.columns[1:]:\n",
    "        l1 = {}\n",
    "        l1['chapter'] = int(column.replace('c', ''))\n",
    "        dict[column] = []\n",
    "        for row in current_book.iterrows():\n",
    "            # name = row[1][0]\n",
    "            l1[row[1][0]] = row[1][i]\n",
    "            if row[1][i] == 1:\n",
    "                dict[column].append(row[1][0])\n",
    "                # l1.append(row[1][0])\n",
    "        i += 1\n",
    "        l.append(l1)\n",
    "    with open('./app/assets/book-' + book.split(\" \", 1)[0] + '.json', 'w') as f:\n",
    "        json.dump(l, f)\n"
   ]
  },
  {
   "cell_type": "code",
   "execution_count": null,
   "metadata": {},
   "outputs": [],
   "source": [
    "import json\n",
    "app_json = json.dumps(l)\n",
    "print(app_json)"
   ]
  }
 ],
 "metadata": {
  "kernelspec": {
   "display_name": "Python 3.8.5 ('base')",
   "language": "python",
   "name": "python3"
  },
  "language_info": {
   "codemirror_mode": {
    "name": "ipython",
    "version": 3
   },
   "file_extension": ".py",
   "mimetype": "text/x-python",
   "name": "python",
   "nbconvert_exporter": "python",
   "pygments_lexer": "ipython3",
   "version": "3.8.5"
  },
  "orig_nbformat": 4,
  "vscode": {
   "interpreter": {
    "hash": "ddacd16ca7b5d1ec3d04d14cb332886a4c5b0290015d3fa549433c5b0a5f02d7"
   }
  }
 },
 "nbformat": 4,
 "nbformat_minor": 2
}

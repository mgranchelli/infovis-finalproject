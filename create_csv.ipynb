{
 "cells": [
  {
   "cell_type": "markdown",
   "metadata": {},
   "source": [
    "# Get book characters "
   ]
  },
  {
   "cell_type": "code",
   "execution_count": null,
   "metadata": {},
   "outputs": [],
   "source": [
    "import pandas as pd\n",
    "import string\n",
    "from bs4 import BeautifulSoup\n",
    "from urllib.request import urlopen\n",
    "\n",
    "#web scraping list of characters from witcher wiki\n",
    "#https://witcher.fandom.com/wiki/Category:Characters_in_the_stories\n",
    "from bs4 import BeautifulSoup\n",
    "from urllib.request import urlopen\n",
    "\n",
    "book_characters = {}\n",
    "\n",
    "def get_characters(book, url):\n",
    "    book_characters[book] = set()\n",
    "    page = urlopen(url)\n",
    "    html = page.read().decode(\"utf-8\")\n",
    "    soup = BeautifulSoup(html, \"html.parser\")\n",
    "\n",
    "    images = soup.find_all(\"img\")\n",
    "\n",
    "    for image in images:\n",
    "        name = image[\"alt\"]\n",
    "        name = name.split(\" \")[0]\n",
    "        if name not in book_characters[book]:\n",
    "            if not name == \"Witcher\" and not name == \"Cirilla\":\n",
    "                book_characters[book].add(name)\n",
    "\n",
    "# I\n",
    "get_characters('I' ,\"https://witcher.fandom.com/wiki/Category:Blood_of_Elves_characters\")\n",
    "# II\n",
    "get_characters('II', \"https://witcher.fandom.com/wiki/Category:Time_of_Contempt_characters\")\n",
    "# III\n",
    "get_characters('III', \"https://witcher.fandom.com/wiki/Category:Baptism_of_Fire_characters\")\n",
    "# IV\n",
    "get_characters('IV', \"https://witcher.fandom.com/wiki/Category:The_Tower_of_the_Swallow_characters\")\n",
    "# V\n",
    "get_characters('V', \"https://witcher.fandom.com/wiki/Category:The_Lady_of_the_Lake_characters\")"
   ]
  },
  {
   "cell_type": "code",
   "execution_count": null,
   "metadata": {},
   "outputs": [],
   "source": [
    "for book, list_characters in book_characters.items():\n",
    "    print(book)\n",
    "    print(sorted(list_characters))\n",
    "    print(len(list_characters))\n",
    "    print('\\n')"
   ]
  },
  {
   "cell_type": "markdown",
   "metadata": {},
   "source": [
    "# Get chapters from file txt"
   ]
  },
  {
   "cell_type": "code",
   "execution_count": null,
   "metadata": {},
   "outputs": [],
   "source": [
    "import os\n",
    "books = ['I - Blood of Elves', 'II - Times of Contempt', 'III - Baptism of Fire', 'IV - The Tower of the Swallow', 'V - The Lady of the Lake']\n",
    "book_chapters = {}\n",
    "\n",
    "for book in books:\n",
    "    book_chapters[book] = set()\n",
    "    chapters = os.listdir('./books/book_chapters/' + book + '/txt/')\n",
    "    for chapter in chapters:\n",
    "        book_chapters[book].add(int(chapter.replace(\"chapter-\", \"\").replace(\".txt\", \"\")))"
   ]
  },
  {
   "cell_type": "code",
   "execution_count": null,
   "metadata": {},
   "outputs": [],
   "source": [
    "for book, chapters in book_chapters.items():\n",
    "    print(book)\n",
    "    print(chapters)"
   ]
  },
  {
   "cell_type": "markdown",
   "metadata": {},
   "source": [
    "# Get characters for chapters"
   ]
  },
  {
   "cell_type": "code",
   "execution_count": null,
   "metadata": {},
   "outputs": [],
   "source": [
    "def get_characters_for_chapters(chapter, name_book):\n",
    "    chapter_characters = set()\n",
    "    lines = []\n",
    "    for line in chapter:\n",
    "        lines.append(line)\n",
    "\n",
    "    table = str.maketrans('', '', string.punctuation)\n",
    "    stripped = [l.translate(table) for l in lines]\n",
    "    \n",
    "    for line in stripped:\n",
    "        for charater in book_characters[name_book]:\n",
    "            if charater in line:\n",
    "                chapter_characters.add(charater)\n",
    "                #print(chapter_characters)\n",
    "        \n",
    "    return chapter_characters"
   ]
  },
  {
   "cell_type": "code",
   "execution_count": null,
   "metadata": {},
   "outputs": [],
   "source": [
    "def get_column(chapter_characters, name_book):\n",
    "    l = []\n",
    "    for character in book_characters[name_book]:\n",
    "        if character in chapter_characters:\n",
    "            l.append(1)\n",
    "        else:\n",
    "            l.append(0)\n",
    "    return l"
   ]
  },
  {
   "cell_type": "markdown",
   "metadata": {},
   "source": [
    "# Create final csv "
   ]
  },
  {
   "cell_type": "code",
   "execution_count": null,
   "metadata": {},
   "outputs": [],
   "source": [
    "import pandas as pd\n",
    "\n",
    "for book, list_chapters in book_chapters.items():\n",
    "    data = {}\n",
    "    name_book = book.split(\" \", 1)[0]\n",
    "    for chapter in list_chapters:\n",
    "        path_chapter = \"./books/book_chapters/\" + book + \"/txt/chapter-\" + str(chapter) + \".txt\"\n",
    "        data[chapter] = get_column(get_characters_for_chapters(open(path_chapter, \"r\"), name_book), name_book)\n",
    "    \n",
    "    df = pd.DataFrame(data, index=book_characters[name_book])\n",
    "    \n",
    "    # remove characters that not appear in 50% of chapters\n",
    "    for row in df.iterrows():\n",
    "        if row[1].sum() < len(list_chapters)/2:\n",
    "            df = df.drop(row[0])\n",
    "\n",
    "    # change name of columns\n",
    "    columns = []\n",
    "    for column in df.columns:\n",
    "        columns.append('c' + str(column))\n",
    "    df.columns = columns\n",
    "    \n",
    "    # sort df\n",
    "    df = df.sort_values(by = columns, ascending = False)\n",
    "    i = 0\n",
    "    for row in df.iterrows():\n",
    "        if row[1].sum() == len(list_chapters):\n",
    "            i += 1\n",
    "    \n",
    "    df_c = df.iloc[:i,:]\n",
    "    df_u = df.iloc[i:int((len(df)+i)/2),:]\n",
    "    df_u = df_u.sort_values(by = columns, ascending = True)\n",
    "    df_d = df.iloc[int((len(df)+i)/2):,:]\n",
    "\n",
    "    df = df_u.append(df_c)\n",
    "    df = df.append(df_d)\n",
    "\n",
    "    df.to_csv(\"./books/book_chapters/\" + book + \"/final-book-\" + name_book + \"-sort.csv\")    \n",
    "    "
   ]
  },
  {
   "cell_type": "markdown",
   "metadata": {},
   "source": [
    "# Create json"
   ]
  },
  {
   "cell_type": "code",
   "execution_count": null,
   "metadata": {},
   "outputs": [],
   "source": [
    "import pandas as pd\n",
    "import json\n",
    "\n",
    "for book in books:\n",
    "    current_book = pd.read_csv(\"./books/book_chapters/\" + book + \"/final-book-\" + book.split(\" \", 1)[0] + \"-all.csv\")\n",
    "    dict = {}\n",
    "    i = 1\n",
    "    l = []\n",
    "    for column in current_book.columns[1:]:\n",
    "        l1 = {}\n",
    "        l1['chapter'] = int(column.replace('c', ''))\n",
    "        dict[column] = []\n",
    "        for row in current_book.iterrows():\n",
    "            # name = row[1][0]\n",
    "            l1[row[1][0]] = row[1][i]\n",
    "            if row[1][i] == 1:\n",
    "                dict[column].append(row[1][0])\n",
    "                # l1.append(row[1][0])\n",
    "        i += 1\n",
    "        # print(sorted(l1.items(), key=lambda x: x[1], reverse=True))\n",
    "        \n",
    "        l.append(l1)\n",
    "        # print(l)\n",
    "    with open('./app/assets/book-' + book.split(\" \", 1)[0] + '-all.json', 'w') as f:\n",
    "        json.dump(l, f)\n",
    "        break\n"
   ]
  },
  {
   "cell_type": "code",
   "execution_count": null,
   "metadata": {},
   "outputs": [],
   "source": [
    "import json\n",
    "data_json = json.dumps(l)\n",
    "print(data)"
   ]
  },
  {
   "cell_type": "markdown",
   "metadata": {},
   "source": [
    "## Overview"
   ]
  },
  {
   "cell_type": "code",
   "execution_count": null,
   "metadata": {},
   "outputs": [],
   "source": [
    "dict_characters_books = {}\n",
    "for book in books:\n",
    "    current_book = pd.read_csv(\"./books/book_chapters/\" + book + \"/final-book-\" + book.split(\" \", 1)[0] + \".csv\")\n",
    "    dict_characters_books[book.split(\" \", 1)[0]] = []\n",
    "    for row in current_book.iterrows():\n",
    "        dict_characters_books[book.split(\" \", 1)[0]].append(row[1][0])\n",
    "    "
   ]
  },
  {
   "cell_type": "code",
   "execution_count": null,
   "metadata": {},
   "outputs": [],
   "source": [
    "total_characters = set()\n",
    "for book, l_characters in dict_characters_books.items():\n",
    "    for c in l_characters:\n",
    "        total_characters.add(c)"
   ]
  },
  {
   "cell_type": "code",
   "execution_count": null,
   "metadata": {},
   "outputs": [],
   "source": [
    "def get_column_book(book):\n",
    "    l = []\n",
    "    for character in total_characters:\n",
    "        if character in dict_characters_books[book]:\n",
    "            l.append(1)\n",
    "        else:\n",
    "            l.append(0)\n",
    "    return l\n",
    "        "
   ]
  },
  {
   "cell_type": "code",
   "execution_count": null,
   "metadata": {},
   "outputs": [],
   "source": [
    "data = {}\n",
    "for book in books:\n",
    "    data['b-' + book.split(\" \", 1)[0]] = get_column_book(book.split(\" \", 1)[0])\n",
    "\n",
    "df = pd.DataFrame(data, index=list(total_characters))\n",
    "cols = []\n",
    "for col in df.columns:\n",
    "    cols.append(col)\n",
    "\n",
    "df = df.sort_values(by = cols, ascending = False)\n",
    "\n",
    "i = 0\n",
    "for row in df.iterrows():\n",
    "    if row[1].sum() == len(list_chapters):\n",
    "        i += 1\n",
    "\n",
    "df_c = df.iloc[:i, :]\n",
    "df_u = df.iloc[i:int((len(df)+i)/2), :]\n",
    "df_u = df_u.sort_values(by=cols, ascending=True)\n",
    "df_d = df.iloc[int((len(df)+i)/2):, :]\n",
    "\n",
    "df = df_u.append(df_c)\n",
    "df = df.append(df_d)\n"
   ]
  },
  {
   "cell_type": "code",
   "execution_count": null,
   "metadata": {},
   "outputs": [],
   "source": [
    "dict = {}\n",
    "l = []\n",
    "i = 0\n",
    "roman = {'I': 1, 'II': 2, 'III': 3, 'IV': 4, 'V': 5}\n",
    "# print(df.columns[0:])\n",
    "for column in df.columns[0:]:\n",
    "    l1 = {}\n",
    "    l1['book'] = roman[column.replace('b-', '')]\n",
    "    dict[column] = []\n",
    "    for row in df.iterrows():\n",
    "        # name = row[1][0]\n",
    "        #print(row[1][i])\n",
    "        l1[row[0]] = int(row[1][i])\n",
    "\n",
    "    i += 1\n",
    "    # print(l1)\n",
    "    l.append(l1)\n"
   ]
  },
  {
   "cell_type": "code",
   "execution_count": null,
   "metadata": {},
   "outputs": [],
   "source": [
    "with open('./app/assets/books-overview.json', 'w') as f:\n",
    "    json.dump(l, f)"
   ]
  }
 ],
 "metadata": {
  "kernelspec": {
   "display_name": "Python 3.8.5 ('base')",
   "language": "python",
   "name": "python3"
  },
  "language_info": {
   "codemirror_mode": {
    "name": "ipython",
    "version": 3
   },
   "file_extension": ".py",
   "mimetype": "text/x-python",
   "name": "python",
   "nbconvert_exporter": "python",
   "pygments_lexer": "ipython3",
   "version": "3.8.5"
  },
  "orig_nbformat": 4,
  "vscode": {
   "interpreter": {
    "hash": "ddacd16ca7b5d1ec3d04d14cb332886a4c5b0290015d3fa549433c5b0a5f02d7"
   }
  }
 },
 "nbformat": 4,
 "nbformat_minor": 2
}

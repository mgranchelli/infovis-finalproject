{
 "cells": [
  {
   "cell_type": "markdown",
   "metadata": {},
   "source": [
    "[Link Wikipedia libri](https://en.wikipedia.org/wiki/The_Witcher)"
   ]
  },
  {
   "cell_type": "code",
   "execution_count": 26,
   "metadata": {},
   "outputs": [],
   "source": [
    "import os.path\n",
    "def get_chapters(book):\n",
    "    with open('./books/text/' + book + '.txt') as f:\n",
    "        contents = f.readlines()\n",
    "        #print(contents)\n",
    "    chapters = ['CHAPTER ONE', 'CHAPTER TWO', 'CHAPTER THREE', 'CHAPTER FOUR', 'CHAPTER FIVE', 'CHAPTER SIX', 'CHAPTER SEVEN',\n",
    "    'CHAPTER EIGHT', 'CHAPTER NINE', 'CHAPTER TEN', 'CHAPTER ELEVEN', 'CHAPTER TWELVE']\n",
    "\n",
    "    # read line from standard input\n",
    "    chapter = 0\n",
    "    new_chapter = 0\n",
    "    start = False\n",
    "    opened = False\n",
    "    for line in contents:\n",
    "        # removing leading/trailing whitespaces\n",
    "        #line = line.strip()\n",
    "        if line.strip().upper() in chapters:\n",
    "            new_chapter += 1\n",
    "            start = True\n",
    "        \n",
    "        if new_chapter != chapter:\n",
    "            chapter = new_chapter\n",
    "            \n",
    "\n",
    "        if start:\n",
    "            if not os.path.exists('./books/book_chapters/' + book + '/chapter-' + str(chapter) + '.txt'):\n",
    "                opened = True\n",
    "            if opened:\n",
    "                with open('./books/book_chapters/' + book + '/chapter-' + str(chapter) + '.txt', 'a') as w:\n",
    "                    w.writelines(line)\n",
    "    if opened:\n",
    "        w.close()   \n",
    "    f.close()"
   ]
  },
  {
   "cell_type": "code",
   "execution_count": 27,
   "metadata": {},
   "outputs": [],
   "source": [
    "books = ['I - Blood of Elves', 'II - Times of Contempt', 'IV - The Tower of the Swallow', 'V - The Lady of the Lake']\n",
    "for book in books:\n",
    "    get_chapters(book)"
   ]
  },
  {
   "cell_type": "code",
   "execution_count": 28,
   "metadata": {},
   "outputs": [],
   "source": [
    "get_chapters('III - Baptism of Fire')"
   ]
  }
 ],
 "metadata": {
  "kernelspec": {
   "display_name": "Python 3.9.2 64-bit",
   "language": "python",
   "name": "python3"
  },
  "language_info": {
   "codemirror_mode": {
    "name": "ipython",
    "version": 3
   },
   "file_extension": ".py",
   "mimetype": "text/x-python",
   "name": "python",
   "nbconvert_exporter": "python",
   "pygments_lexer": "ipython3",
   "version": "3.9.2"
  },
  "orig_nbformat": 4,
  "vscode": {
   "interpreter": {
    "hash": "aee8b7b246df8f9039afb4144a1f6fd8d2ca17a180786b69acc140d282b71a49"
   }
  }
 },
 "nbformat": 4,
 "nbformat_minor": 2
}
